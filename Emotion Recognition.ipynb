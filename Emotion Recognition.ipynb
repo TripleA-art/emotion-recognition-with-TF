{
 "cells": [
  {
   "cell_type": "code",
   "execution_count": 60,
   "id": "45921226",
   "metadata": {},
   "outputs": [],
   "source": [
    "import sys\n",
    "import os\n",
    "import numpy as np\n",
    "from keras.models import sequential\n",
    "from keras.layers import Dense,Dropout,Activation,Flatten\n",
    "from keras.layers import Conv2D,MaxPooling2D,BatchNormalization\n",
    "from keras.losses import sparse_categorical_crossentropy\n",
    "from tensorflow.keras.optimizers import Adam\n",
    "from keras.regularizers import l2\n",
    "from keras.utils import np_utils\n",
    "import pandas as pd"
   ]
  },
  {
   "cell_type": "code",
   "execution_count": 61,
   "id": "a221fafa",
   "metadata": {},
   "outputs": [],
   "source": [
    "df = pd.read_csv(\"D:\\\\Projects\\\\Emotion Recognition\\\\emotion recognition dataset\\\\fer2013.csv\")"
   ]
  },
  {
   "cell_type": "code",
   "execution_count": 62,
   "id": "022bbd76",
   "metadata": {},
   "outputs": [
    {
     "name": "stdout",
     "output_type": "stream",
     "text": [
      "<class 'pandas.core.frame.DataFrame'>\n",
      "RangeIndex: 35887 entries, 0 to 35886\n",
      "Data columns (total 3 columns):\n",
      " #   Column   Non-Null Count  Dtype \n",
      "---  ------   --------------  ----- \n",
      " 0   emotion  35887 non-null  int64 \n",
      " 1   pixels   35887 non-null  object\n",
      " 2   Usage    35887 non-null  object\n",
      "dtypes: int64(1), object(2)\n",
      "memory usage: 841.2+ KB\n"
     ]
    }
   ],
   "source": [
    "df.info()"
   ]
  },
  {
   "cell_type": "code",
   "execution_count": 63,
   "id": "f55661e3",
   "metadata": {},
   "outputs": [
    {
     "data": {
      "text/html": [
       "<div>\n",
       "<style scoped>\n",
       "    .dataframe tbody tr th:only-of-type {\n",
       "        vertical-align: middle;\n",
       "    }\n",
       "\n",
       "    .dataframe tbody tr th {\n",
       "        vertical-align: top;\n",
       "    }\n",
       "\n",
       "    .dataframe thead th {\n",
       "        text-align: right;\n",
       "    }\n",
       "</style>\n",
       "<table border=\"1\" class=\"dataframe\">\n",
       "  <thead>\n",
       "    <tr style=\"text-align: right;\">\n",
       "      <th></th>\n",
       "      <th>emotion</th>\n",
       "    </tr>\n",
       "  </thead>\n",
       "  <tbody>\n",
       "    <tr>\n",
       "      <th>count</th>\n",
       "      <td>35887.000000</td>\n",
       "    </tr>\n",
       "    <tr>\n",
       "      <th>mean</th>\n",
       "      <td>3.323265</td>\n",
       "    </tr>\n",
       "    <tr>\n",
       "      <th>std</th>\n",
       "      <td>1.873819</td>\n",
       "    </tr>\n",
       "    <tr>\n",
       "      <th>min</th>\n",
       "      <td>0.000000</td>\n",
       "    </tr>\n",
       "    <tr>\n",
       "      <th>25%</th>\n",
       "      <td>2.000000</td>\n",
       "    </tr>\n",
       "    <tr>\n",
       "      <th>50%</th>\n",
       "      <td>3.000000</td>\n",
       "    </tr>\n",
       "    <tr>\n",
       "      <th>75%</th>\n",
       "      <td>5.000000</td>\n",
       "    </tr>\n",
       "    <tr>\n",
       "      <th>max</th>\n",
       "      <td>6.000000</td>\n",
       "    </tr>\n",
       "  </tbody>\n",
       "</table>\n",
       "</div>"
      ],
      "text/plain": [
       "            emotion\n",
       "count  35887.000000\n",
       "mean       3.323265\n",
       "std        1.873819\n",
       "min        0.000000\n",
       "25%        2.000000\n",
       "50%        3.000000\n",
       "75%        5.000000\n",
       "max        6.000000"
      ]
     },
     "execution_count": 63,
     "metadata": {},
     "output_type": "execute_result"
    }
   ],
   "source": [
    "df.describe()"
   ]
  },
  {
   "cell_type": "code",
   "execution_count": 64,
   "id": "0dcfa2de",
   "metadata": {},
   "outputs": [
    {
     "data": {
      "text/html": [
       "<div>\n",
       "<style scoped>\n",
       "    .dataframe tbody tr th:only-of-type {\n",
       "        vertical-align: middle;\n",
       "    }\n",
       "\n",
       "    .dataframe tbody tr th {\n",
       "        vertical-align: top;\n",
       "    }\n",
       "\n",
       "    .dataframe thead th {\n",
       "        text-align: right;\n",
       "    }\n",
       "</style>\n",
       "<table border=\"1\" class=\"dataframe\">\n",
       "  <thead>\n",
       "    <tr style=\"text-align: right;\">\n",
       "      <th></th>\n",
       "      <th>emotion</th>\n",
       "      <th>pixels</th>\n",
       "      <th>Usage</th>\n",
       "    </tr>\n",
       "  </thead>\n",
       "  <tbody>\n",
       "    <tr>\n",
       "      <th>0</th>\n",
       "      <td>0</td>\n",
       "      <td>70 80 82 72 58 58 60 63 54 58 60 48 89 115 121...</td>\n",
       "      <td>Training</td>\n",
       "    </tr>\n",
       "    <tr>\n",
       "      <th>1</th>\n",
       "      <td>0</td>\n",
       "      <td>151 150 147 155 148 133 111 140 170 174 182 15...</td>\n",
       "      <td>Training</td>\n",
       "    </tr>\n",
       "    <tr>\n",
       "      <th>2</th>\n",
       "      <td>2</td>\n",
       "      <td>231 212 156 164 174 138 161 173 182 200 106 38...</td>\n",
       "      <td>Training</td>\n",
       "    </tr>\n",
       "    <tr>\n",
       "      <th>3</th>\n",
       "      <td>4</td>\n",
       "      <td>24 32 36 30 32 23 19 20 30 41 21 22 32 34 21 1...</td>\n",
       "      <td>Training</td>\n",
       "    </tr>\n",
       "    <tr>\n",
       "      <th>4</th>\n",
       "      <td>6</td>\n",
       "      <td>4 0 0 0 0 0 0 0 0 0 0 0 3 15 23 28 48 50 58 84...</td>\n",
       "      <td>Training</td>\n",
       "    </tr>\n",
       "  </tbody>\n",
       "</table>\n",
       "</div>"
      ],
      "text/plain": [
       "   emotion                                             pixels     Usage\n",
       "0        0  70 80 82 72 58 58 60 63 54 58 60 48 89 115 121...  Training\n",
       "1        0  151 150 147 155 148 133 111 140 170 174 182 15...  Training\n",
       "2        2  231 212 156 164 174 138 161 173 182 200 106 38...  Training\n",
       "3        4  24 32 36 30 32 23 19 20 30 41 21 22 32 34 21 1...  Training\n",
       "4        6  4 0 0 0 0 0 0 0 0 0 0 0 3 15 23 28 48 50 58 84...  Training"
      ]
     },
     "execution_count": 64,
     "metadata": {},
     "output_type": "execute_result"
    }
   ],
   "source": [
    "df.head(5)"
   ]
  },
  {
   "cell_type": "code",
   "execution_count": 65,
   "id": "483aff7c",
   "metadata": {},
   "outputs": [
    {
     "name": "stdout",
     "output_type": "stream",
     "text": [
      "Training       28709\n",
      "PublicTest      3589\n",
      "PrivateTest     3589\n",
      "Name: Usage, dtype: int64\n"
     ]
    }
   ],
   "source": [
    "print(df[\"Usage\"].value_counts())"
   ]
  },
  {
   "cell_type": "code",
   "execution_count": 66,
   "id": "8a491675",
   "metadata": {},
   "outputs": [
    {
     "name": "stdout",
     "output_type": "stream",
     "text": [
      "X_train sample data:[array([ 70.,  80.,  82., ..., 106., 109.,  82.], dtype=float32), array([151., 150., 147., ..., 193., 183., 184.], dtype=float32)]\n",
      "X_test sample data: [array([254., 254., 254., ...,  42., 129., 180.], dtype=float32), array([156., 184., 198., ..., 172., 167., 161.], dtype=float32)]\n",
      "y_train sample data: [0, 0]\n",
      "y_test sample data: [0, 1]\n"
     ]
    }
   ],
   "source": [
    "X_train, X_test, y_train, y_test = [],[],[],[]\n",
    "\n",
    "for index,row in df.iterrows():\n",
    "    val = row[\"pixels\"].split(\" \")\n",
    "    try:\n",
    "        if \"Training\" in row[\"Usage\"]:\n",
    "            X_train.append(np.array(val,\"float32\"))\n",
    "            y_train.append(row[\"emotion\"])\n",
    "            \n",
    "        elif \"PublicTest\" in row[\"Usage\"]:\n",
    "            X_test.append(np.array(val,\"float32\"))\n",
    "            y_test.append(row[\"emotion\"])\n",
    "            \n",
    "    except:\n",
    "        print(f\"error occured at index: {index} and row: {row}\")\n",
    "        \n",
    "        \n",
    "print(f\"X_train sample data:{X_train[0:2]}\")\n",
    "print(f\"X_test sample data: {X_test[0:2]}\")\n",
    "print(f\"y_train sample data: {y_train[0:2]}\")\n",
    "print(f\"y_test sample data: {y_test[0:2]}\")"
   ]
  },
  {
   "cell_type": "code",
   "execution_count": 67,
   "id": "c1461fe5",
   "metadata": {},
   "outputs": [],
   "source": [
    "X_train = np.array(X_train,\"float32\")\n",
    "y_train = np.array(y_train,\"float32\")\n",
    "X_test = np.array(X_test,\"float32\")\n",
    "y_test = np.array(y_test,\"float32\")"
   ]
  },
  {
   "cell_type": "code",
   "execution_count": 68,
   "id": "4d8b88b2",
   "metadata": {},
   "outputs": [],
   "source": [
    "#Normalizing data between 0 and 1\n",
    "\n",
    "X_train -= np.mean(X_train, axis=0)\n",
    "X_train /= np.std(X_train, axis=0)\n",
    "\n",
    "X_test -= np.mean(X_test, axis=0)\n",
    "X_test /= np.std(X_test, axis=0)"
   ]
  },
  {
   "cell_type": "code",
   "execution_count": 69,
   "id": "7dcb4e9c",
   "metadata": {},
   "outputs": [],
   "source": [
    "num_features = 64\n",
    "num_labels = 7\n",
    "batch_size = 64\n",
    "epochs = 30\n",
    "width,height = 48,48\n",
    "\n",
    "X_train = X_train.reshape(X_train.shape[0],width, height,1)\n",
    "\n",
    "X_test = X_test.reshape(X_test.shape[0],width, height,1)"
   ]
  },
  {
   "cell_type": "code",
   "execution_count": 71,
   "id": "bf5f5e5b",
   "metadata": {},
   "outputs": [
    {
     "data": {
      "text/plain": [
       "(28709, 48, 48, 1)"
      ]
     },
     "execution_count": 71,
     "metadata": {},
     "output_type": "execute_result"
    }
   ],
   "source": [
    "X_train.shape"
   ]
  },
  {
   "cell_type": "code",
   "execution_count": 72,
   "id": "d634d5d9",
   "metadata": {},
   "outputs": [
    {
     "data": {
      "text/plain": [
       "(48, 48, 1)"
      ]
     },
     "execution_count": 72,
     "metadata": {},
     "output_type": "execute_result"
    }
   ],
   "source": [
    "X_train[10].shape#after reshape"
   ]
  },
  {
   "cell_type": "code",
   "execution_count": 73,
   "id": "b6456002",
   "metadata": {},
   "outputs": [],
   "source": [
    "#Designing in CNN\n",
    "\n",
    "model = sequential.Sequential()\n",
    "\n",
    "#1st layer\n",
    "model.add(Conv2D(num_features, kernel_size=(3,3),activation=\"relu\",input_shape =(X_train.shape[1:])))\n",
    "model.add(Conv2D(num_features, kernel_size=(3,3),activation=\"relu\"))\n",
    "model.add(MaxPooling2D(pool_size=(2,2),strides=(2,2)))\n",
    "model.add(Dropout(0.5))\n",
    "\n",
    "\n",
    "#2nd convolutional layer\n",
    "model.add(Conv2D(num_features, kernel_size=(3,3),activation=\"relu\"))\n",
    "model.add(Conv2D(num_features, kernel_size=(3,3),activation=\"relu\"))\n",
    "model.add(MaxPooling2D(pool_size=(2,2),strides=(2,2)))\n",
    "model.add(Dropout(0.5))\n",
    "\n",
    "#3rd convolutional layer\n",
    "model.add(Conv2D(2*num_features, kernel_size=(3,3),activation=\"relu\"))\n",
    "model.add(Conv2D(2*num_features, kernel_size=(3,3),activation=\"relu\"))\n",
    "model.add(MaxPooling2D(pool_size=(2,2),strides=(2,2)))\n",
    "\n",
    "model.add(Flatten())\n",
    "\n",
    "model.add(Dense(2*2*2*2*num_features,activation=\"relu\"))\n",
    "model.add(Dropout(0.2))\n",
    "\n",
    "model.add(Dense(num_labels,activation=\"softmax\"))\n",
    "\n",
    "model.compile(loss=sparse_categorical_crossentropy, optimizer=Adam(),metrics=['accuracy'])\n",
    "\n",
    "\n"
   ]
  },
  {
   "cell_type": "code",
   "execution_count": 74,
   "id": "c022ed3c",
   "metadata": {},
   "outputs": [
    {
     "name": "stdout",
     "output_type": "stream",
     "text": [
      "Epoch 1/30\n",
      "449/449 [==============================] - 24s 50ms/step - loss: 1.7007 - accuracy: 0.3096 - val_loss: 1.5111 - val_accuracy: 0.4051\n",
      "Epoch 2/30\n",
      "449/449 [==============================] - 22s 48ms/step - loss: 1.4630 - accuracy: 0.4290 - val_loss: 1.3736 - val_accuracy: 0.4826\n",
      "Epoch 3/30\n",
      "449/449 [==============================] - 22s 49ms/step - loss: 1.3483 - accuracy: 0.4792 - val_loss: 1.3064 - val_accuracy: 0.4987\n",
      "Epoch 4/30\n",
      "449/449 [==============================] - 24s 52ms/step - loss: 1.2866 - accuracy: 0.5083 - val_loss: 1.2385 - val_accuracy: 0.5274\n",
      "Epoch 5/30\n",
      "449/449 [==============================] - 24s 52ms/step - loss: 1.2400 - accuracy: 0.5249 - val_loss: 1.2071 - val_accuracy: 0.5492\n",
      "Epoch 6/30\n",
      "449/449 [==============================] - 23s 52ms/step - loss: 1.1960 - accuracy: 0.5448 - val_loss: 1.2058 - val_accuracy: 0.5522\n",
      "Epoch 7/30\n",
      "449/449 [==============================] - 23s 51ms/step - loss: 1.1602 - accuracy: 0.5560 - val_loss: 1.1814 - val_accuracy: 0.5587\n",
      "Epoch 8/30\n",
      "449/449 [==============================] - 19s 43ms/step - loss: 1.1356 - accuracy: 0.5683 - val_loss: 1.1794 - val_accuracy: 0.5522\n",
      "Epoch 9/30\n",
      "449/449 [==============================] - 20s 43ms/step - loss: 1.1036 - accuracy: 0.5817 - val_loss: 1.1536 - val_accuracy: 0.5745\n",
      "Epoch 10/30\n",
      "449/449 [==============================] - 20s 44ms/step - loss: 1.0813 - accuracy: 0.5880 - val_loss: 1.1558 - val_accuracy: 0.5567\n",
      "Epoch 11/30\n",
      "449/449 [==============================] - 19s 43ms/step - loss: 1.0586 - accuracy: 0.5946 - val_loss: 1.1501 - val_accuracy: 0.5667\n",
      "Epoch 12/30\n",
      "449/449 [==============================] - 19s 43ms/step - loss: 1.0353 - accuracy: 0.6069 - val_loss: 1.1748 - val_accuracy: 0.5656\n",
      "Epoch 13/30\n",
      "449/449 [==============================] - 19s 42ms/step - loss: 1.0080 - accuracy: 0.6166 - val_loss: 1.1969 - val_accuracy: 0.5626\n",
      "Epoch 14/30\n",
      "449/449 [==============================] - 19s 42ms/step - loss: 0.9920 - accuracy: 0.6227 - val_loss: 1.1623 - val_accuracy: 0.5648\n",
      "Epoch 15/30\n",
      "449/449 [==============================] - 19s 42ms/step - loss: 0.9632 - accuracy: 0.6350 - val_loss: 1.1334 - val_accuracy: 0.5782\n",
      "Epoch 16/30\n",
      "449/449 [==============================] - 19s 42ms/step - loss: 0.9370 - accuracy: 0.6459 - val_loss: 1.1745 - val_accuracy: 0.5795\n",
      "Epoch 17/30\n",
      "449/449 [==============================] - 19s 42ms/step - loss: 0.9163 - accuracy: 0.6518 - val_loss: 1.1597 - val_accuracy: 0.5762\n",
      "Epoch 18/30\n",
      "449/449 [==============================] - 19s 42ms/step - loss: 0.8897 - accuracy: 0.6638 - val_loss: 1.1813 - val_accuracy: 0.5829\n",
      "Epoch 19/30\n",
      "449/449 [==============================] - 19s 42ms/step - loss: 0.8655 - accuracy: 0.6747 - val_loss: 1.2107 - val_accuracy: 0.5734\n",
      "Epoch 20/30\n",
      "449/449 [==============================] - 19s 42ms/step - loss: 0.8497 - accuracy: 0.6809 - val_loss: 1.1753 - val_accuracy: 0.5726\n",
      "Epoch 21/30\n",
      "449/449 [==============================] - 19s 42ms/step - loss: 0.8255 - accuracy: 0.6876 - val_loss: 1.2031 - val_accuracy: 0.5743\n",
      "Epoch 22/30\n",
      "449/449 [==============================] - 19s 42ms/step - loss: 0.8083 - accuracy: 0.6955 - val_loss: 1.1930 - val_accuracy: 0.5848\n",
      "Epoch 23/30\n",
      "449/449 [==============================] - 19s 42ms/step - loss: 0.7868 - accuracy: 0.7038 - val_loss: 1.2444 - val_accuracy: 0.5854\n",
      "Epoch 24/30\n",
      "449/449 [==============================] - 19s 42ms/step - loss: 0.7677 - accuracy: 0.7103 - val_loss: 1.2460 - val_accuracy: 0.5790\n",
      "Epoch 25/30\n",
      "449/449 [==============================] - 19s 42ms/step - loss: 0.7539 - accuracy: 0.7173 - val_loss: 1.2702 - val_accuracy: 0.5776\n",
      "Epoch 26/30\n",
      "449/449 [==============================] - 19s 42ms/step - loss: 0.7363 - accuracy: 0.7269 - val_loss: 1.2828 - val_accuracy: 0.5754\n",
      "Epoch 27/30\n",
      "449/449 [==============================] - 19s 42ms/step - loss: 0.7164 - accuracy: 0.7341 - val_loss: 1.2376 - val_accuracy: 0.5793\n",
      "Epoch 28/30\n",
      "449/449 [==============================] - 19s 42ms/step - loss: 0.6963 - accuracy: 0.7368 - val_loss: 1.3063 - val_accuracy: 0.5793\n",
      "Epoch 29/30\n",
      "449/449 [==============================] - 19s 42ms/step - loss: 0.6877 - accuracy: 0.7419 - val_loss: 1.3218 - val_accuracy: 0.5798\n",
      "Epoch 30/30\n",
      "449/449 [==============================] - 19s 42ms/step - loss: 0.6729 - accuracy: 0.7499 - val_loss: 1.3684 - val_accuracy: 0.5729\n"
     ]
    }
   ],
   "source": [
    "model.fit(X_train,y_train,batch_size=batch_size,epochs=epochs,verbose=1,validation_data=(X_test,y_test),shuffle=True)\n",
    "\n",
    "\n",
    "# fer_json = model.to_json()\n",
    "# with open(\"fer.json\",\"w\") as json_file:\n",
    "#     json_file.write(fer_json)\n",
    "\n",
    "# model.save_weights(\"fer.h5\")\n",
    "\n",
    "\n",
    "fer_json = model.to_json()\n",
    "with open(\"fer.json\", \"w\") as json_file:\n",
    "    json_file.write(fer_json)\n",
    "model.save_weights(\"fer.h5\")"
   ]
  },
  {
   "cell_type": "code",
   "execution_count": null,
   "id": "7a622d34",
   "metadata": {},
   "outputs": [],
   "source": []
  },
  {
   "cell_type": "code",
   "execution_count": null,
   "id": "3c631837",
   "metadata": {},
   "outputs": [],
   "source": []
  }
 ],
 "metadata": {
  "kernelspec": {
   "display_name": "Python 3 (ipykernel)",
   "language": "python",
   "name": "python3"
  },
  "language_info": {
   "codemirror_mode": {
    "name": "ipython",
    "version": 3
   },
   "file_extension": ".py",
   "mimetype": "text/x-python",
   "name": "python",
   "nbconvert_exporter": "python",
   "pygments_lexer": "ipython3",
   "version": "3.9.7"
  }
 },
 "nbformat": 4,
 "nbformat_minor": 5
}
